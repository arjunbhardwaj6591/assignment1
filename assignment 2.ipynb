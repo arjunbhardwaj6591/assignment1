{
 "cells": [
  {
   "cell_type": "markdown",
   "id": "5a062cca",
   "metadata": {},
   "source": [
    "# calculate the sum , differnce , product, and quotient of two number\n"
   ]
  },
  {
   "cell_type": "code",
   "execution_count": 38,
   "id": "01cc4c30",
   "metadata": {},
   "outputs": [
    {
     "name": "stdout",
     "output_type": "stream",
     "text": [
      "enter the value 17\n",
      "enter the value 28\n",
      "sum: 15\n",
      "differnce: -1\n",
      "product 56\n",
      "quotient 7\n"
     ]
    }
   ],
   "source": [
    "def calculate(a,b):\n",
    "    add = a+b\n",
    "    differnce = a-b\n",
    "    product =a*b\n",
    "    quotient = a%b\n",
    "    return add,differnce,product,quotient\n",
    "a = int(input(\"enter the value 1\"))\n",
    "b =int(input(\"enter the value 2\"))\n",
    "add,differnce,product,quotient= calculate(a,b)\n",
    "print(\"sum:\",add)\n",
    "print(\"differnce:\",differnce)\n",
    "print(\"product\",product)\n",
    "print(\"quotient\",quotient)\n",
    "    \n",
    "    "
   ]
  },
  {
   "cell_type": "markdown",
   "id": "f626d226",
   "metadata": {},
   "source": [
    "#  perfom various assignment opertions on a variable\n"
   ]
  },
  {
   "cell_type": "code",
   "execution_count": 24,
   "id": "00c66777",
   "metadata": {},
   "outputs": [
    {
     "name": "stdout",
     "output_type": "stream",
     "text": [
      "enter the variable  78\n"
     ]
    }
   ],
   "source": [
    "a =int(input(\"enter the variable  \"))\n"
   ]
  },
  {
   "cell_type": "code",
   "execution_count": 25,
   "id": "2390e8ab",
   "metadata": {},
   "outputs": [
    {
     "name": "stdout",
     "output_type": "stream",
     "text": [
      "83\n"
     ]
    }
   ],
   "source": [
    "#add assigment\n",
    "a +=5\n",
    "print(a)"
   ]
  },
  {
   "cell_type": "code",
   "execution_count": 26,
   "id": "cd9e631f",
   "metadata": {},
   "outputs": [
    {
     "name": "stdout",
     "output_type": "stream",
     "text": [
      "77\n"
     ]
    }
   ],
   "source": [
    "#sub  assigment\n",
    "a -= 6 \n",
    "print(a)\n"
   ]
  },
  {
   "cell_type": "code",
   "execution_count": 27,
   "id": "a94e6f3c",
   "metadata": {},
   "outputs": [
    {
     "name": "stdout",
     "output_type": "stream",
     "text": [
      "462\n"
     ]
    }
   ],
   "source": [
    "# mult assigment\n",
    "a *=6\n",
    "print(a)"
   ]
  },
  {
   "cell_type": "code",
   "execution_count": 28,
   "id": "62714b4c",
   "metadata": {},
   "outputs": [
    {
     "name": "stdout",
     "output_type": "stream",
     "text": [
      "231.0\n"
     ]
    }
   ],
   "source": [
    "#div assigment\n",
    "a/=2\n",
    "print(a)\n"
   ]
  },
  {
   "cell_type": "code",
   "execution_count": 29,
   "id": "6ca6aeeb",
   "metadata": {},
   "outputs": [
    {
     "name": "stdout",
     "output_type": "stream",
     "text": [
      "1.0\n"
     ]
    }
   ],
   "source": [
    "#modulus assigment\n",
    "a %=5\n",
    "print(a)"
   ]
  },
  {
   "cell_type": "code",
   "execution_count": 30,
   "id": "07f9f15f",
   "metadata": {},
   "outputs": [
    {
     "name": "stdout",
     "output_type": "stream",
     "text": [
      "1.0\n"
     ]
    }
   ],
   "source": [
    "#Exponentiation assignment\n",
    "a**3\n",
    "print(a)"
   ]
  },
  {
   "cell_type": "code",
   "execution_count": 31,
   "id": "c3ba9dc1",
   "metadata": {},
   "outputs": [
    {
     "data": {
      "text/plain": [
       "0.0"
      ]
     },
     "execution_count": 31,
     "metadata": {},
     "output_type": "execute_result"
    }
   ],
   "source": [
    "#Floor division assignment\n",
    "a // 4"
   ]
  },
  {
   "cell_type": "markdown",
   "id": "b44b207b",
   "metadata": {},
   "source": [
    "# compare two number and print result"
   ]
  },
  {
   "cell_type": "code",
   "execution_count": 33,
   "id": "c8c72a4b",
   "metadata": {},
   "outputs": [
    {
     "name": "stdout",
     "output_type": "stream",
     "text": [
      "enter the number 15\n",
      "enter the number 25\n",
      "1abd 2 is equal\n"
     ]
    }
   ],
   "source": [
    "a =int(input(\"enter the number 1\"))\n",
    "b =int(input(\"enter the number 2\"))\n",
    "if a<b:\n",
    "    print(\"1 is greater than 2\")\n",
    "elif a==b:\n",
    "    print(\"1 and 2 is equal\")\n",
    "else:\n",
    "    print(\"2 is greater than 1\")"
   ]
  },
  {
   "cell_type": "markdown",
   "id": "2b9869aa",
   "metadata": {},
   "source": [
    "# check conditions using logical operators"
   ]
  },
  {
   "cell_type": "code",
   "execution_count": 9,
   "id": "40de8835",
   "metadata": {},
   "outputs": [
    {
     "name": "stdout",
     "output_type": "stream",
     "text": [
      "enter the number 5\n",
      "odd\n"
     ]
    }
   ],
   "source": [
    "a = int(input(\"enter the number \"))\n",
    "if a%2==0:\n",
    "    print(\"even\")\n",
    "else:\n",
    "    print(\"odd\")\n",
    "    \n",
    "\n"
   ]
  },
  {
   "cell_type": "markdown",
   "id": "46e986d8",
   "metadata": {},
   "source": [
    "# check the identity of variables"
   ]
  },
  {
   "cell_type": "code",
   "execution_count": 37,
   "id": "0048da7d",
   "metadata": {},
   "outputs": [
    {
     "name": "stdout",
     "output_type": "stream",
     "text": [
      "<class 'int'>\n",
      "<class 'float'>\n",
      "<class 'str'>\n",
      "<class 'list'>\n",
      "<class 'tuple'>\n",
      "<class 'bool'>\n"
     ]
    }
   ],
   "source": [
    "a = 5\n",
    "b =7.6\n",
    "c = \"arjun\"\n",
    "d = [1,\"arjun\"]\n",
    "e = (\"karan\",1,2,4,\"mukki\")\n",
    "f = True\n",
    "print(type(a))\n",
    "print(type(b))\n",
    "print(type(c))\n",
    "print(type(d))\n",
    "print(type(e))\n",
    "print(type(f))"
   ]
  },
  {
   "cell_type": "markdown",
   "id": "ba2f774e",
   "metadata": {},
   "source": [
    "# "
   ]
  },
  {
   "cell_type": "markdown",
   "id": "ea35f371",
   "metadata": {},
   "source": [
    "#  Perform bitwise operations on any two integers."
   ]
  },
  {
   "cell_type": "code",
   "execution_count": 3,
   "id": "1721a099",
   "metadata": {},
   "outputs": [
    {
     "name": "stdout",
     "output_type": "stream",
     "text": [
      "0\n",
      "7\n",
      "-4\n",
      "7\n",
      "1\n",
      "6\n"
     ]
    }
   ],
   "source": [
    "a,b = 3,4\n",
    "\n",
    "\n",
    "print(a & b)\n",
    "print(a | b)\n",
    "print(~a)\n",
    "print(a ^ b)\n",
    "print(a >> 1)\n",
    "print(a << 1)"
   ]
  },
  {
   "cell_type": "markdown",
   "id": "fdacb6cf",
   "metadata": {},
   "source": [
    "# Use unary operators to change the sign of a number."
   ]
  },
  {
   "cell_type": "code",
   "execution_count": 4,
   "id": "57d51e64",
   "metadata": {},
   "outputs": [
    {
     "name": "stdout",
     "output_type": "stream",
     "text": [
      "-6\n"
     ]
    }
   ],
   "source": [
    "a=6\n",
    "\n",
    "print(-a)"
   ]
  },
  {
   "cell_type": "markdown",
   "id": "15c62e3c",
   "metadata": {},
   "source": [
    "# Use of Ternary Operator to assign values based on condition"
   ]
  },
  {
   "cell_type": "code",
   "execution_count": 10,
   "id": "109ae281",
   "metadata": {},
   "outputs": [
    {
     "name": "stdout",
     "output_type": "stream",
     "text": [
      "User can vote.\n"
     ]
    }
   ],
   "source": [
    "age = 67\n",
    "\n",
    "user = \"User can vote.\" if age >= 18 else \"User can't vote\"\n",
    "print(user)"
   ]
  },
  {
   "cell_type": "code",
   "execution_count": null,
   "id": "ad4fe378",
   "metadata": {},
   "outputs": [],
   "source": []
  },
  {
   "cell_type": "code",
   "execution_count": null,
   "id": "69695107",
   "metadata": {},
   "outputs": [],
   "source": []
  },
  {
   "cell_type": "code",
   "execution_count": null,
   "id": "51b94ab4",
   "metadata": {},
   "outputs": [],
   "source": []
  },
  {
   "cell_type": "code",
   "execution_count": null,
   "id": "3960f874",
   "metadata": {},
   "outputs": [],
   "source": []
  },
  {
   "cell_type": "code",
   "execution_count": null,
   "id": "3da1d942",
   "metadata": {},
   "outputs": [],
   "source": []
  },
  {
   "cell_type": "code",
   "execution_count": null,
   "id": "1115b856",
   "metadata": {},
   "outputs": [],
   "source": []
  }
 ],
 "metadata": {
  "kernelspec": {
   "display_name": "Python 3 (ipykernel)",
   "language": "python",
   "name": "python3"
  },
  "language_info": {
   "codemirror_mode": {
    "name": "ipython",
    "version": 3
   },
   "file_extension": ".py",
   "mimetype": "text/x-python",
   "name": "python",
   "nbconvert_exporter": "python",
   "pygments_lexer": "ipython3",
   "version": "3.11.4"
  }
 },
 "nbformat": 4,
 "nbformat_minor": 5
}
