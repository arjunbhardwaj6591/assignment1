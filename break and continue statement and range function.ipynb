{
 "cells": [
  {
   "cell_type": "markdown",
   "id": "56ea3931",
   "metadata": {},
   "source": [
    "# write a program to print number from 1 to 10 , but stop if the number is 5."
   ]
  },
  {
   "cell_type": "code",
   "execution_count": 20,
   "id": "fa27c4f5",
   "metadata": {},
   "outputs": [
    {
     "name": "stdout",
     "output_type": "stream",
     "text": [
      "1\n",
      "2\n",
      "3\n",
      "4\n"
     ]
    }
   ],
   "source": [
    "\n",
    "for i in range(1,10):\n",
    "    if i == 5:\n",
    "        break\n",
    "    print(i)   \n",
    "    "
   ]
  },
  {
   "cell_type": "code",
   "execution_count": 23,
   "id": "c17322f9",
   "metadata": {},
   "outputs": [
    {
     "name": "stdout",
     "output_type": "stream",
     "text": [
      "1\n",
      "2\n",
      "3\n",
      "4\n"
     ]
    }
   ],
   "source": [
    "a = 1\n",
    "while a<=10:\n",
    "    if a ==5:\n",
    "        break\n",
    "    print(a) \n",
    "    a+=1"
   ]
  },
  {
   "cell_type": "markdown",
   "id": "773853bb",
   "metadata": {},
   "source": [
    "# write a program to interate through a list and stop when  encountering a specific  element"
   ]
  },
  {
   "cell_type": "code",
   "execution_count": 2,
   "id": "ccf9f7bd",
   "metadata": {},
   "outputs": [
    {
     "name": "stdout",
     "output_type": "stream",
     "text": [
      "1\n",
      "2\n",
      "3\n"
     ]
    }
   ],
   "source": [
    "a = [1,2,3,4,5]\n",
    "for number in a:\n",
    "    if number == 4:\n",
    "        break\n",
    "    print(number)\n",
    "    \n",
    "     "
   ]
  },
  {
   "cell_type": "markdown",
   "id": "5e8271d6",
   "metadata": {},
   "source": [
    "# write a program to skip printing even number from 1 to 10"
   ]
  },
  {
   "cell_type": "code",
   "execution_count": 5,
   "id": "b82f3373",
   "metadata": {},
   "outputs": [
    {
     "name": "stdout",
     "output_type": "stream",
     "text": [
      "1\n",
      "3\n",
      "5\n",
      "7\n",
      "9\n"
     ]
    }
   ],
   "source": [
    "a = [1,2,3,4,5,6,7,8,9,10]\n",
    "for b in a:\n",
    "    if b % 2 == 0:\n",
    "        continue\n",
    "    print(b) \n",
    "        \n",
    "    "
   ]
  },
  {
   "cell_type": "markdown",
   "id": "5a2e36eb",
   "metadata": {},
   "source": [
    "# write a program to print number from 0 to 9 using rang()"
   ]
  },
  {
   "cell_type": "code",
   "execution_count": 1,
   "id": "1b008a07",
   "metadata": {},
   "outputs": [
    {
     "name": "stdout",
     "output_type": "stream",
     "text": [
      "0\n",
      "1\n",
      "2\n",
      "3\n",
      "4\n",
      "5\n",
      "6\n",
      "7\n",
      "8\n",
      "9\n"
     ]
    }
   ],
   "source": [
    "for i in range(0,10):\n",
    "    print(i)"
   ]
  },
  {
   "cell_type": "markdown",
   "id": "dd5d0793",
   "metadata": {},
   "source": [
    "# write a program to print multiplication table 1 to 5 ,but stop after the table is printed for each number"
   ]
  },
  {
   "cell_type": "code",
   "execution_count": 28,
   "id": "852b796c",
   "metadata": {},
   "outputs": [
    {
     "name": "stdout",
     "output_type": "stream",
     "text": [
      "1\n",
      "2\n",
      "3\n",
      "4\n",
      "5\n",
      "6\n",
      "7\n",
      "8\n",
      "9\n",
      "10\n",
      "2\n",
      "4\n",
      "6\n",
      "8\n",
      "10\n",
      "12\n",
      "14\n",
      "16\n",
      "18\n",
      "20\n",
      "3\n",
      "6\n",
      "9\n",
      "12\n",
      "15\n",
      "18\n",
      "21\n",
      "24\n",
      "27\n",
      "30\n",
      "4\n",
      "8\n",
      "12\n",
      "16\n",
      "20\n",
      "24\n",
      "28\n",
      "32\n",
      "36\n",
      "40\n",
      "5\n",
      "10\n",
      "15\n",
      "20\n",
      "25\n",
      "30\n",
      "35\n",
      "40\n",
      "45\n",
      "50\n"
     ]
    }
   ],
   "source": [
    "i = 1 \n",
    "for i in range (1,6):\n",
    "    j = 1\n",
    "    for j in range(1,11):\n",
    "\n",
    "    \n",
    "        a = i*j\n",
    "        j+=1\n",
    "        print(a)\n",
    "        "
   ]
  },
  {
   "cell_type": "markdown",
   "id": "18bb8587",
   "metadata": {},
   "source": [
    "# write a program to skip printing even number using a whil loop"
   ]
  },
  {
   "cell_type": "code",
   "execution_count": 4,
   "id": "6988ae87",
   "metadata": {},
   "outputs": [
    {
     "name": "stdout",
     "output_type": "stream",
     "text": [
      "1\n",
      "3\n",
      "5\n",
      "7\n",
      "9\n"
     ]
    }
   ],
   "source": [
    "a = 0\n",
    "while a <= 9:\n",
    "    a+=1\n",
    "    if a % 2 == 0:\n",
    "        continue\n",
    "    print(a)\n",
    "    "
   ]
  },
  {
   "cell_type": "code",
   "execution_count": null,
   "id": "06899a70",
   "metadata": {},
   "outputs": [],
   "source": []
  },
  {
   "cell_type": "code",
   "execution_count": null,
   "id": "d39dbbc0",
   "metadata": {},
   "outputs": [],
   "source": []
  }
 ],
 "metadata": {
  "kernelspec": {
   "display_name": "Python 3 (ipykernel)",
   "language": "python",
   "name": "python3"
  },
  "language_info": {
   "codemirror_mode": {
    "name": "ipython",
    "version": 3
   },
   "file_extension": ".py",
   "mimetype": "text/x-python",
   "name": "python",
   "nbconvert_exporter": "python",
   "pygments_lexer": "ipython3",
   "version": "3.11.5"
  }
 },
 "nbformat": 4,
 "nbformat_minor": 5
}
