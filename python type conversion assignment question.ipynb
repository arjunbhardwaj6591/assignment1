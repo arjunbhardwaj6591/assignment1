{
 "cells": [
  {
   "cell_type": "markdown",
   "id": "086bb5a6",
   "metadata": {},
   "source": [
    "# convert an integer to a floating- point number\n"
   ]
  },
  {
   "cell_type": "code",
   "execution_count": 6,
   "id": "37ee8579",
   "metadata": {},
   "outputs": [
    {
     "name": "stdout",
     "output_type": "stream",
     "text": [
      "enter the number 5\n",
      "<class 'int'>\n",
      "5.0\n",
      "<class 'float'>\n"
     ]
    }
   ],
   "source": [
    "a = int(input('enter the number '))\n",
    "        \n",
    "print(type(a))\n",
    "\n",
    "b = float(a)\n",
    "print(b)\n",
    "print (type(b))\n"
   ]
  },
  {
   "cell_type": "markdown",
   "id": "7c34b732",
   "metadata": {},
   "source": [
    "# convert a float to an integer"
   ]
  },
  {
   "cell_type": "code",
   "execution_count": 9,
   "id": "89f9d8a3",
   "metadata": {},
   "outputs": [
    {
     "name": "stdout",
     "output_type": "stream",
     "text": [
      "enter the value  7.6\n",
      "<class 'float'>\n",
      "7\n",
      "<class 'int'>\n"
     ]
    }
   ],
   "source": [
    "a = float(input(\"enter the value  \"))\n",
    "print(type(a))\n",
    "b =int(a)\n",
    "print(b)\n",
    "print(type(b))"
   ]
  },
  {
   "cell_type": "markdown",
   "id": "e7e9d445",
   "metadata": {},
   "source": [
    "# convert an integer to a string"
   ]
  },
  {
   "cell_type": "code",
   "execution_count": 11,
   "id": "fcdd2a39",
   "metadata": {},
   "outputs": [
    {
     "name": "stdout",
     "output_type": "stream",
     "text": [
      "enter the number  77\n",
      "<class 'int'>\n",
      "77\n",
      "<class 'str'>\n"
     ]
    }
   ],
   "source": [
    "a = int(input (\"enter the number  \"))\n",
    "print(type(a))\n",
    "b = str(a)\n",
    "print(b)\n",
    "print(type(b))"
   ]
  },
  {
   "cell_type": "markdown",
   "id": "eaaa5af0",
   "metadata": {},
   "source": [
    "# convert a list to a tuple"
   ]
  },
  {
   "cell_type": "code",
   "execution_count": 14,
   "id": "fee808f8",
   "metadata": {},
   "outputs": [
    {
     "name": "stdout",
     "output_type": "stream",
     "text": [
      "<class 'list'>\n",
      "(5, 6, 7)\n",
      "<class 'tuple'>\n"
     ]
    }
   ],
   "source": [
    "a = [5,6,7]\n",
    "print(type(a))\n",
    "\n",
    "b =tuple(a) \n",
    "print(b)\n",
    "print(type(b))"
   ]
  },
  {
   "cell_type": "markdown",
   "id": "c2dc0f83",
   "metadata": {},
   "source": [
    "# convert a tuple to a list"
   ]
  },
  {
   "cell_type": "code",
   "execution_count": 16,
   "id": "d7945c47",
   "metadata": {},
   "outputs": [
    {
     "name": "stdout",
     "output_type": "stream",
     "text": [
      "<class 'tuple'>\n",
      "['arjun', 1, 2, 3]\n",
      "<class 'list'>\n"
     ]
    }
   ],
   "source": [
    "a = (\"arjun\",1,2,3)\n",
    "print(type(a))\n",
    "b = list(a)\n",
    "print(b)\n",
    "print(type(b))"
   ]
  },
  {
   "cell_type": "markdown",
   "id": "c27b1c95",
   "metadata": {},
   "source": [
    "# convert a decimal number to binary"
   ]
  },
  {
   "cell_type": "code",
   "execution_count": 21,
   "id": "4d18e747",
   "metadata": {},
   "outputs": [
    {
     "name": "stdout",
     "output_type": "stream",
     "text": [
      "0b101010\n",
      "<class 'int'>\n"
     ]
    }
   ],
   "source": [
    "a = 42\n",
    "b = bin(a)\n",
    "print(b)\n"
   ]
  },
  {
   "cell_type": "markdown",
   "id": "0f81c002",
   "metadata": {},
   "source": [
    "# convert a non- zero number to boolean"
   ]
  },
  {
   "cell_type": "code",
   "execution_count": 23,
   "id": "39350e7b",
   "metadata": {},
   "outputs": [
    {
     "name": "stdout",
     "output_type": "stream",
     "text": [
      "False\n"
     ]
    }
   ],
   "source": [
    "a = 0\n",
    "boolean = bool(a)\n",
    "print(boolean)"
   ]
  },
  {
   "cell_type": "code",
   "execution_count": null,
   "id": "701edf43",
   "metadata": {},
   "outputs": [],
   "source": []
  },
  {
   "cell_type": "code",
   "execution_count": null,
   "id": "a5c0680a",
   "metadata": {},
   "outputs": [],
   "source": []
  },
  {
   "cell_type": "code",
   "execution_count": null,
   "id": "b20bc57c",
   "metadata": {},
   "outputs": [],
   "source": []
  },
  {
   "cell_type": "code",
   "execution_count": null,
   "id": "c5d9a3e0",
   "metadata": {},
   "outputs": [],
   "source": []
  },
  {
   "cell_type": "code",
   "execution_count": null,
   "id": "6b06af47",
   "metadata": {},
   "outputs": [],
   "source": []
  },
  {
   "cell_type": "code",
   "execution_count": null,
   "id": "73bc779e",
   "metadata": {},
   "outputs": [],
   "source": []
  }
 ],
 "metadata": {
  "kernelspec": {
   "display_name": "Python 3 (ipykernel)",
   "language": "python",
   "name": "python3"
  },
  "language_info": {
   "codemirror_mode": {
    "name": "ipython",
    "version": 3
   },
   "file_extension": ".py",
   "mimetype": "text/x-python",
   "name": "python",
   "nbconvert_exporter": "python",
   "pygments_lexer": "ipython3",
   "version": "3.11.4"
  }
 },
 "nbformat": 4,
 "nbformat_minor": 5
}
