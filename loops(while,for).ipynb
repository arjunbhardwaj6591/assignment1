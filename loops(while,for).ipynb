{
 "cells": [
  {
   "cell_type": "markdown",
   "id": "427da2d6",
   "metadata": {},
   "source": [
    "# Print nmber from 1 to 5 ing a while loop."
   ]
  },
  {
   "cell_type": "code",
   "execution_count": 6,
   "id": "48f6d7d2",
   "metadata": {},
   "outputs": [
    {
     "name": "stdout",
     "output_type": "stream",
     "text": [
      "1\n",
      "2\n",
      "3\n",
      "4\n",
      "5\n"
     ]
    }
   ],
   "source": [
    "a = 1\n",
    "while a<=5:\n",
    "    print(a)\n",
    "    a+=1\n",
    "    "
   ]
  },
  {
   "cell_type": "markdown",
   "id": "66ce5fd7",
   "metadata": {},
   "source": [
    "# Calclate the sum of nmber from 1 to 10 ing a while loop."
   ]
  },
  {
   "cell_type": "code",
   "execution_count": 17,
   "id": "647d1d60",
   "metadata": {},
   "outputs": [
    {
     "name": "stdout",
     "output_type": "stream",
     "text": [
      "the sum of 1 to 10 number 55\n"
     ]
    }
   ],
   "source": [
    "a = 1\n",
    "b = 0\n",
    "while a<=10:\n",
    "         b += a\n",
    "         a += 1\n",
    "print(\"the sum of 1 to 10 number\",b)"
   ]
  },
  {
   "cell_type": "markdown",
   "id": "77131de3",
   "metadata": {},
   "source": [
    "# Calclate the factorial of a number ing a for loop."
   ]
  },
  {
   "cell_type": "code",
   "execution_count": 21,
   "id": "ecd4ed42",
   "metadata": {},
   "outputs": [
    {
     "name": "stdout",
     "output_type": "stream",
     "text": [
      "Factorial of 4 is: 24\n"
     ]
    }
   ],
   "source": [
    "\n",
    "def factorial(n):\n",
    "    \n",
    "    fact = 1\n",
    "    \n",
    "    \n",
    "    for i in range(1, n + 1):\n",
    "        \n",
    "        fact *= i\n",
    "    \n",
    "    \n",
    "    return fact\n",
    "\n",
    "\n",
    "number = 4\n",
    "result = factorial(number)\n",
    "print(\"Factorial of\", number, \"is:\", result)\n"
   ]
  },
  {
   "cell_type": "markdown",
   "id": "d0efc6a8",
   "metadata": {},
   "source": [
    "# Cont the nmber of vowel in a tring ing a for loop."
   ]
  },
  {
   "cell_type": "code",
   "execution_count": 23,
   "id": "22d9f43d",
   "metadata": {},
   "outputs": [
    {
     "name": "stdout",
     "output_type": "stream",
     "text": [
      "Number of vowels in the string: 2\n"
     ]
    }
   ],
   "source": [
    "\n",
    "def count_vowels(string):\n",
    "    \n",
    "    vowels = {'a', 'e', 'i', 'o', 'u'}\n",
    "    \n",
    "    \n",
    "    vowel_count = 0\n",
    "    \n",
    "    \n",
    "    for char in string:\n",
    "        \n",
    "        if char.lower() in vowels:\n",
    "            \n",
    "            vowel_count += 1\n",
    "    \n",
    "    \n",
    "    return vowel_count\n",
    "\n",
    "\n",
    "input_string = \"arjun\"\n",
    "vowel_count = count_vowels(input_string)\n",
    "print(\"Number of vowels in the string:\", vowel_count)\n"
   ]
  },
  {
   "cell_type": "markdown",
   "id": "b0735be9",
   "metadata": {},
   "source": [
    "# Print a pattern ing neted loop."
   ]
  },
  {
   "cell_type": "code",
   "execution_count": 24,
   "id": "6ab8fe47",
   "metadata": {},
   "outputs": [
    {
     "name": "stdout",
     "output_type": "stream",
     "text": [
      "* \n",
      "* * \n",
      "* * * \n",
      "* * * * \n",
      "* * * * * \n"
     ]
    }
   ],
   "source": [
    "\n",
    "num_rows = 5\n",
    "\n",
    "\n",
    "for i in range(num_rows):\n",
    "    \n",
    "    for j in range(i + 1):\n",
    "        print(\"*\", end=\" \")\n",
    "    \n",
    "    print()\n"
   ]
  },
  {
   "cell_type": "code",
   "execution_count": null,
   "id": "8891ea81",
   "metadata": {},
   "outputs": [],
   "source": [
    "# Define the size of the multiplication table\n",
    "num_rows = 10\n",
    "num_cols = 10\n",
    "\n",
    "# Outer loop for rows\n",
    "for i in range(1, num_rows + 1):\n",
    "    # Inner loop for columns\n",
    "    for j in range(1, num_cols + 1):\n",
    "        # Calculate the product and print with proper formatting\n",
    "        product = i * j\n",
    "        print(f\"{i} * {j} = {product}\", end=\"\\t\")\n",
    "    # Move to the next line after printing each row\n",
    "    print()\n"
   ]
  },
  {
   "cell_type": "code",
   "execution_count": null,
   "id": "40fa34ac",
   "metadata": {},
   "outputs": [],
   "source": []
  },
  {
   "cell_type": "code",
   "execution_count": null,
   "id": "ed60e0bb",
   "metadata": {},
   "outputs": [],
   "source": []
  },
  {
   "cell_type": "code",
   "execution_count": null,
   "id": "a55d0f93",
   "metadata": {},
   "outputs": [],
   "source": []
  },
  {
   "cell_type": "code",
   "execution_count": null,
   "id": "2f2c2553",
   "metadata": {},
   "outputs": [],
   "source": []
  },
  {
   "cell_type": "code",
   "execution_count": null,
   "id": "2631a999",
   "metadata": {},
   "outputs": [],
   "source": []
  },
  {
   "cell_type": "code",
   "execution_count": null,
   "id": "bfe351dd",
   "metadata": {},
   "outputs": [],
   "source": []
  }
 ],
 "metadata": {
  "kernelspec": {
   "display_name": "Python 3 (ipykernel)",
   "language": "python",
   "name": "python3"
  },
  "language_info": {
   "codemirror_mode": {
    "name": "ipython",
    "version": 3
   },
   "file_extension": ".py",
   "mimetype": "text/x-python",
   "name": "python",
   "nbconvert_exporter": "python",
   "pygments_lexer": "ipython3",
   "version": "3.11.5"
  }
 },
 "nbformat": 4,
 "nbformat_minor": 5
}
