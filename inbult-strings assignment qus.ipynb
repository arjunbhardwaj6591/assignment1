{
 "cells": [
  {
   "cell_type": "markdown",
   "id": "16a784f8",
   "metadata": {},
   "source": [
    "# what is the purpose of the len()funtion in python can used with strings?"
   ]
  },
  {
   "cell_type": "code",
   "execution_count": 1,
   "id": "73d67c66",
   "metadata": {},
   "outputs": [
    {
     "data": {
      "text/plain": [
       "10"
      ]
     },
     "execution_count": 1,
     "metadata": {},
     "output_type": "execute_result"
    }
   ],
   "source": [
    "a = \"i am arjun\"\n",
    "len(a)\n",
    "'''\n",
    "The len() function in Python is used to determine the length or the number of items in an object, such as a sequence (like a string, list, tuple, etc.) or a collection (like a dictionary or a set). It returns the number of elements in the object.\n",
    "\n",
    "When used with strings specifically, the len() function returns the number of characters in the string, including spaces, punctuation, and special characters. Each character in the string contributes to the length count.'''"
   ]
  },
  {
   "cell_type": "markdown",
   "id": "8323182c",
   "metadata": {},
   "source": [
    "# How can concattenate two or more string in puthon , you provde an example of string concatenation"
   ]
  },
  {
   "cell_type": "code",
   "execution_count": 4,
   "id": "80bf5329",
   "metadata": {},
   "outputs": [
    {
     "name": "stdout",
     "output_type": "stream",
     "text": [
      "arjun  bhardwaj\n"
     ]
    }
   ],
   "source": [
    "a = \"arjun\"\n",
    "b = \"bhardwaj\"\n",
    "c = a+\"  \"+b\n",
    "print(c)"
   ]
  },
  {
   "cell_type": "code",
   "execution_count": 5,
   "id": "39f7e331",
   "metadata": {},
   "outputs": [
    {
     "name": "stdout",
     "output_type": "stream",
     "text": [
      "arjunbhardwaj\n"
     ]
    }
   ],
   "source": [
    "a+=b\n",
    "print(a)"
   ]
  },
  {
   "cell_type": "code",
   "execution_count": null,
   "id": "af3d6636",
   "metadata": {},
   "outputs": [],
   "source": [
    "'''In Python, you can concatenate two or more strings using the + operator or the += operator. String concatenation involves combining multiple strings into a single string'''"
   ]
  },
  {
   "cell_type": "markdown",
   "id": "6283ccf9",
   "metadata": {},
   "source": [
    "# what is string slicing in pytho , and how can you extract a portion of a string using this method"
   ]
  },
  {
   "cell_type": "code",
   "execution_count": 8,
   "id": "01158583",
   "metadata": {},
   "outputs": [
    {
     "data": {
      "text/plain": [
       "' arju'"
      ]
     },
     "execution_count": 8,
     "metadata": {},
     "output_type": "execute_result"
    }
   ],
   "source": [
    "a = \" arjun bhardwaj\"\n",
    "a[0:5]"
   ]
  },
  {
   "cell_type": "code",
   "execution_count": 12,
   "id": "c5af12ce",
   "metadata": {},
   "outputs": [
    {
     "data": {
      "text/plain": [
       "'jawdrahb nujra '"
      ]
     },
     "execution_count": 12,
     "metadata": {},
     "output_type": "execute_result"
    }
   ],
   "source": [
    "a[::-1]"
   ]
  },
  {
   "cell_type": "code",
   "execution_count": 13,
   "id": "4702a30c",
   "metadata": {},
   "outputs": [
    {
     "data": {
      "text/plain": [
       "' arjun bhardwa'"
      ]
     },
     "execution_count": 13,
     "metadata": {},
     "output_type": "execute_result"
    }
   ],
   "source": [
    "a[:-1]"
   ]
  },
  {
   "cell_type": "code",
   "execution_count": 15,
   "id": "1dc29fd8",
   "metadata": {},
   "outputs": [
    {
     "data": {
      "text/plain": [
       "'wa'"
      ]
     },
     "execution_count": 15,
     "metadata": {},
     "output_type": "execute_result"
    }
   ],
   "source": [
    "a[-3:-1]"
   ]
  },
  {
   "cell_type": "code",
   "execution_count": null,
   "id": "51f03259",
   "metadata": {},
   "outputs": [],
   "source": [
    "'''start_index- The index representing the start of the substring (inclusive). If omitted, it defaults to 0.\n",
    "    end_index- The index representing the end of the substring (exclusive). If omitted, it defaults to the end of the string.\n",
    "    step- The step or interval between characters to include in the slice. If omitted, it defaults to 1.\n",
    "    \n",
    "    You can omit the start_index or end_index to slice from the beginning or to the end of the string, respectively.\n",
    "    Negative indices can be used to slice relative to the end of the string.\n",
    "    You can specify a step to include every nth character in the slice.\n",
    "    Slicing can also be used to reverse a string or extract substrings in reverse order.\n",
    "'''"
   ]
  },
  {
   "cell_type": "markdown",
   "id": "3669ddcf",
   "metadata": {},
   "source": [
    "# How can you change the case of string in python , and can you provide example of both marking a string all uppercase all lowcase?"
   ]
  },
  {
   "cell_type": "markdown",
   "id": "236ed5dd",
   "metadata": {},
   "source": [
    "# '''Converting a String to Uppercase-\n",
    "\n",
    "You can use the upper() method to convert all characters in a string to uppercase.\n",
    "Converting a String to Lowercase:\n",
    "\n",
    "You can use the lower() method to convert all characters in a string to lowercase.'''"
   ]
  },
  {
   "cell_type": "code",
   "execution_count": 20,
   "id": "e08f4276",
   "metadata": {},
   "outputs": [
    {
     "data": {
      "text/plain": [
       "'ARJUN BHARDWAJ'"
      ]
     },
     "execution_count": 20,
     "metadata": {},
     "output_type": "execute_result"
    }
   ],
   "source": [
    "a = \"arjun bhardwaj\"\n",
    "a.upper()"
   ]
  },
  {
   "cell_type": "code",
   "execution_count": 21,
   "id": "f4709f9d",
   "metadata": {},
   "outputs": [
    {
     "data": {
      "text/plain": [
       "'arjun bhardwaj'"
      ]
     },
     "execution_count": 21,
     "metadata": {},
     "output_type": "execute_result"
    }
   ],
   "source": [
    "a.lower()"
   ]
  },
  {
   "cell_type": "markdown",
   "id": "353ba794",
   "metadata": {},
   "source": [
    "# what does the spilt() method do in python , and how can you spilt a string using a specific delimiter?"
   ]
  },
  {
   "cell_type": "code",
   "execution_count": null,
   "id": "d666eb8f",
   "metadata": {},
   "outputs": [],
   "source": [
    "'''In Python, the split() method is used to split a string into a list of substrings based on a specified delimiter. By default, the split() method splits the string using whitespace characters (spaces, tabs, newlines) as the delimiter. However, you can also specify a custom delimiter to split the string based on a specific character or substring.'''"
   ]
  },
  {
   "cell_type": "code",
   "execution_count": null,
   "id": "0ee71651",
   "metadata": {},
   "outputs": [],
   "source": [
    "split(separator, maxsplit)"
   ]
  },
  {
   "cell_type": "code",
   "execution_count": 29,
   "id": "afff4399",
   "metadata": {},
   "outputs": [],
   "source": [
    "a = \"i am arjun bhardwaj\""
   ]
  },
  {
   "cell_type": "code",
   "execution_count": null,
   "id": "953a0e64",
   "metadata": {},
   "outputs": [],
   "source": [
    "'''separator- This parameter specifies the delimiter used to split the string. If not specified, whitespace characters are used by default.\n",
    "maxsplit- This optional parameter specifies the maximum number of splits to perform. If specified, the string is split at most maxsplit times, and the remaining text is returned as the last element of the resulting list.'''"
   ]
  },
  {
   "cell_type": "code",
   "execution_count": 28,
   "id": "24ce258b",
   "metadata": {},
   "outputs": [
    {
     "name": "stdout",
     "output_type": "stream",
     "text": [
      "['John', 'Doe', '30', 'New York']\n"
     ]
    }
   ],
   "source": [
    "csv_data = \"John,Doe,30,New York\"\n",
    "fields = csv_data.split(\",\")\n",
    "print(fields)"
   ]
  },
  {
   "cell_type": "code",
   "execution_count": 30,
   "id": "f6653e76",
   "metadata": {},
   "outputs": [
    {
     "name": "stdout",
     "output_type": "stream",
     "text": [
      "['i', 'am', 'arjun', 'bhardwaj']\n"
     ]
    }
   ],
   "source": [
    "b = a.split() \n",
    "print(b)"
   ]
  },
  {
   "cell_type": "code",
   "execution_count": null,
   "id": "fb5fc20b",
   "metadata": {},
   "outputs": [],
   "source": []
  }
 ],
 "metadata": {
  "kernelspec": {
   "display_name": "Python 3 (ipykernel)",
   "language": "python",
   "name": "python3"
  },
  "language_info": {
   "codemirror_mode": {
    "name": "ipython",
    "version": 3
   },
   "file_extension": ".py",
   "mimetype": "text/x-python",
   "name": "python",
   "nbconvert_exporter": "python",
   "pygments_lexer": "ipython3",
   "version": "3.11.5"
  }
 },
 "nbformat": 4,
 "nbformat_minor": 5
}
