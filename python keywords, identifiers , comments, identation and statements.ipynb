{
 "cells": [
  {
   "cell_type": "markdown",
   "id": "c1950979",
   "metadata": {},
   "source": [
    "# Explain the significance of Python keywords and provide examples of five keywords"
   ]
  },
  {
   "cell_type": "code",
   "execution_count": 14,
   "id": "7f6ed1ff",
   "metadata": {},
   "outputs": [
    {
     "name": "stdout",
     "output_type": "stream",
     "text": [
      "\n",
      "Here is a list of the Python keywords.  Enter any keyword to get more help.\n",
      "\n",
      "False               class               from                or\n",
      "None                continue            global              pass\n",
      "True                def                 if                  raise\n",
      "and                 del                 import              return\n",
      "as                  elif                in                  try\n",
      "assert              else                is                  while\n",
      "async               except              lambda              with\n",
      "await               finally             nonlocal            yield\n",
      "break               for                 not                 \n",
      "\n"
     ]
    }
   ],
   "source": [
    "help('keywords')"
   ]
  },
  {
   "cell_type": "code",
   "execution_count": 16,
   "id": "86e702b1",
   "metadata": {},
   "outputs": [
    {
     "name": "stdout",
     "output_type": "stream",
     "text": [
      "enter the value23\n",
      "a is smaller than 100\n"
     ]
    }
   ],
   "source": [
    "a =int(input(\"enter the value\"))\n",
    "if a > 100:\n",
    "    print(\"a is greater than 100\")\n",
    "else:\n",
    "    print(\"a is smaller than 100\")"
   ]
  },
  {
   "cell_type": "code",
   "execution_count": 24,
   "id": "b0cdce5e",
   "metadata": {},
   "outputs": [
    {
     "name": "stdout",
     "output_type": "stream",
     "text": [
      "i\n",
      "i\n",
      "i\n",
      "i\n",
      "i\n",
      "i\n"
     ]
    }
   ],
   "source": [
    "i = 1\n",
    "while i<=6:\n",
    "    print('i')\n",
    "    i+= 1\n",
    "    "
   ]
  },
  {
   "cell_type": "code",
   "execution_count": 27,
   "id": "15242500",
   "metadata": {},
   "outputs": [
    {
     "name": "stdout",
     "output_type": "stream",
     "text": [
      "hello,bhardwaj\n"
     ]
    }
   ],
   "source": [
    "def arjun(name):\n",
    "    print('hello,'+name)\n",
    "arjun(\"bhardwaj\")\n",
    "    "
   ]
  },
  {
   "cell_type": "code",
   "execution_count": 5,
   "id": "afa9810a",
   "metadata": {},
   "outputs": [
    {
     "name": "stdout",
     "output_type": "stream",
     "text": [
      "[1, 4, 1156, 25, 36]\n"
     ]
    }
   ],
   "source": [
    "a = [1,2,34,5,6]\n",
    "squa = map(lambda x: x * x, a)\n",
    "print(list(squa))"
   ]
  },
  {
   "cell_type": "code",
   "execution_count": 18,
   "id": "b02d15f6",
   "metadata": {},
   "outputs": [
    {
     "name": "stdout",
     "output_type": "stream",
     "text": [
      "i\n",
      "i\n",
      "i\n",
      "i\n"
     ]
    }
   ],
   "source": [
    "i = 0\n",
    "while i<=6:\n",
    "    print('i')\n",
    "    if i == 3:\n",
    "         break\n",
    "    i += 1\n",
    "    "
   ]
  },
  {
   "cell_type": "markdown",
   "id": "3e5c7891",
   "metadata": {},
   "source": [
    "# Describe the rules for defining identifiers in Python and provide an example"
   ]
  },
  {
   "cell_type": "code",
   "execution_count": 3,
   "id": "191817e9",
   "metadata": {},
   "outputs": [],
   "source": [
    "'''1- Must begin with a letter (a-z, A-Z) or underscore (_).\n",
    "    2-Can be followed by letters, digits (0-9), or underscores (_).\n",
    "    3-Identifiers are case-sensitive.\n",
    "    4-Cannot be a keyword or reserved word.\n",
    "   5- No special characters are allowed such as @, $, %, etc.\n",
    "'''\n",
    "my_variable = 5\n",
    "my_function = lambda x: x**2 \n",
    "#my_variable is ex of variable\n",
    "# my_function is ex of function"
   ]
  },
  {
   "cell_type": "markdown",
   "id": "939b1cae",
   "metadata": {},
   "source": [
    "# What are comments in Python, and why are they useful6 Provide an example"
   ]
  },
  {
   "cell_type": "code",
   "execution_count": null,
   "id": "f74ff398",
   "metadata": {},
   "outputs": [],
   "source": [
    "'''Single-line comments start with a hash symbol #.\n",
    "   Multi-line comments are enclosed within triple quotes \"\"\" \"\"\".\n",
    "   Comments are used to explain what the code does, providing clarity and context to readers.\n",
    "   They are ignored by the Python interpreter during program execution.'''\n",
    "\n",
    "# hello  this is a single line comments of python\n",
    "'''hii \n",
    "i am arjun bhardwaj this is use of \n",
    "the multi -line comment use in python'''\n",
    "\n",
    "\n"
   ]
  },
  {
   "cell_type": "markdown",
   "id": "19559ad8",
   "metadata": {},
   "source": [
    "# Why is proper indentation important in Python?"
   ]
  },
  {
   "cell_type": "code",
   "execution_count": 4,
   "id": "51fda4b1",
   "metadata": {},
   "outputs": [
    {
     "name": "stdout",
     "output_type": "stream",
     "text": [
      "5\n"
     ]
    }
   ],
   "source": [
    "'''1-Readability- Proper indentation makes the code more readable and understandable for other programmers. It visually organizes the code, making it easier to follow the logic and flow of control.\n",
    "\n",
    "   2-Syntax- Python uses indentation to define blocks of code. Incorrect indentation can lead to syntax errors or unexpected behavior. The interpreter relies on indentation to determine the beginning and end of blocks like loops, conditionals, and functions.\n",
    "\n",
    "   3-Clarity- Indentation helps in clearly distinguishing different levels of code blocks. It makes it clear which statements are part of a loop, conditional, or function.\n",
    "\n",
    "   4-Debugging- Properly indented code is easier to debug. When there is a bug or error in the code, the indentation can help identify the scope of the issue and locate the source of the problem more quickly.\n",
    "\n",
    "   5-Convention- Following the recommended indentation style, such as using four spaces or a tab for each level of indentation, helps maintain consistency across projects and makes collaboration easier.'''\n",
    "a = 5\n",
    "if a==5:\n",
    "    print(a)"
   ]
  },
  {
   "cell_type": "markdown",
   "id": "65c0e742",
   "metadata": {},
   "source": [
    "# What happens if indentation is incorrect in Python?"
   ]
  },
  {
   "cell_type": "code",
   "execution_count": 5,
   "id": "c7a4ad55",
   "metadata": {},
   "outputs": [
    {
     "ename": "IndentationError",
     "evalue": "expected an indented block after 'if' statement on line 9 (225362999.py, line 10)",
     "output_type": "error",
     "traceback": [
      "\u001b[1;36m  Cell \u001b[1;32mIn[5], line 10\u001b[1;36m\u001b[0m\n\u001b[1;33m    print(a)\u001b[0m\n\u001b[1;37m    ^\u001b[0m\n\u001b[1;31mIndentationError\u001b[0m\u001b[1;31m:\u001b[0m expected an indented block after 'if' statement on line 9\n"
     ]
    }
   ],
   "source": [
    "'''1-IndentationError- unexpected indent: This error occurs when there is an unexpected level of indentation, such as an extra space or tab where it is not expected.\n",
    "\n",
    "   2-IndentationError- unindent does not match any outer indentation level: This error occurs when there is a mismatch in the indentation levels within a block of code. For example, mixing spaces and tabs or inconsistent indentation within the same block.\n",
    "\n",
    "   3-IndentationError- expected an indented block: This error occurs when a block of code, such as a loop or conditional statement, is expected to be indented but is not.\n",
    "\n",
    "   4-IndentationError- unexpected unindent: This error occurs when there is an unexpected decrease in indentation level, such as after the end of a block that should be indented.'''\n",
    "a = 5\n",
    "if a==5:\n",
    "print(a)\n",
    "#the code is not work"
   ]
  },
  {
   "cell_type": "markdown",
   "id": "12f446f9",
   "metadata": {},
   "source": [
    "# Differentiate between expression and statement in Python with examples"
   ]
  },
  {
   "cell_type": "code",
   "execution_count": 6,
   "id": "c69a729a",
   "metadata": {},
   "outputs": [],
   "source": [
    "'''Expression-\n",
    "\n",
    "1-An expression is a combination of values, variables, operators, and function calls that yields a result.\n",
    "2-Expressions can be simple, like a single variable, or complex, involving multiple operations.\n",
    "3-They always return a value.\n",
    "4-Examples of expressions include arithmetic expressions, function calls, list comprehensions, and so on.\n",
    "python'''\n",
    "#ex\n",
    "# Arithmetic expression\n",
    "result = 2 + 3 * 4\n",
    "\n",
    "# Function call expression\n",
    "value = len(\"Hello, World!\")\n",
    "\n",
    "# List comprehension expression\n",
    "squared_numbers = [x**2 for x in range(5)]\n",
    "\n",
    "\n",
    "'''Statement-\n",
    "\n",
    "1-A statement is a complete instruction that performs some action.\n",
    "2-Statements can include expressions, but they also involve actions like assignment, looping, branching, or function definitions.\n",
    "3-They don't return a value (except in the case of assignment).\n",
    "4-Examples of statements include assignment statements, conditional statements (if-else), loop statements (for, while), and so on.'''\n",
    "#ex\n",
    "# Assignment statement\n",
    "x = 10\n",
    "\n",
    "# Conditional statement\n",
    "if x > 0:\n",
    "    print(\"Positive\")\n",
    "else:\n",
    "    print(\"Non-positive\")\n",
    "\n",
    "# Loop statement\n",
    "for i in range(5):\n",
    "    print(i)\n"
   ]
  },
  {
   "cell_type": "code",
   "execution_count": null,
   "id": "bf0811c9",
   "metadata": {},
   "outputs": [],
   "source": []
  }
 ],
 "metadata": {
  "kernelspec": {
   "display_name": "Python 3 (ipykernel)",
   "language": "python",
   "name": "python3"
  },
  "language_info": {
   "codemirror_mode": {
    "name": "ipython",
    "version": 3
   },
   "file_extension": ".py",
   "mimetype": "text/x-python",
   "name": "python",
   "nbconvert_exporter": "python",
   "pygments_lexer": "ipython3",
   "version": "3.11.5"
  }
 },
 "nbformat": 4,
 "nbformat_minor": 5
}
